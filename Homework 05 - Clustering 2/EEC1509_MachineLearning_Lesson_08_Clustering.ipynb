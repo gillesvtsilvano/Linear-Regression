{
  "nbformat": 4,
  "nbformat_minor": 0,
  "metadata": {
    "colab": {
      "name": "EEC1509_MachineLearning - Lesson #07 - Clustering.ipynb",
      "version": "0.3.2",
      "provenance": [],
      "include_colab_link": true
    },
    "kernelspec": {
      "name": "python3",
      "display_name": "Python 3"
    }
  },
  "cells": [
    {
      "cell_type": "markdown",
      "metadata": {
        "id": "view-in-github",
        "colab_type": "text"
      },
      "source": [
        "<a href=\"https://colab.research.google.com/github/gillesvtsilvano/Machine-Learning/blob/master/EEC1509_MachineLearning_Lesson_08_Clustering.ipynb\" target=\"_parent\"><img src=\"https://colab.research.google.com/assets/colab-badge.svg\" alt=\"Open In Colab\"/></a>"
      ]
    },
    {
      "metadata": {
        "id": "KwarAsWskJdM",
        "colab_type": "code",
        "outputId": "eb626f75-bf38-4644-d33a-e5dc04e8b288",
        "colab": {
          "base_uri": "https://localhost:8080/",
          "height": 150
        }
      },
      "cell_type": "code",
      "source": [
        "!git clone https://github.com/ivanovitchm/EEC1509_MachineLearning.git\n",
        " \n",
        "import os\n",
        "os.chdir('EEC1509_MachineLearning/Lesson #08 Clustering')"
      ],
      "execution_count": 0,
      "outputs": [
        {
          "output_type": "stream",
          "text": [
            "Cloning into 'EEC1509_MachineLearning'...\n",
            "remote: Enumerating objects: 16, done.\u001b[K\n",
            "remote: Counting objects: 100% (16/16), done.\u001b[K\n",
            "remote: Compressing objects: 100% (14/14), done.\u001b[K\n",
            "remote: Total 86 (delta 2), reused 16 (delta 2), pack-reused 70\u001b[K\n",
            "Unpacking objects: 100% (86/86), done.\n"
          ],
          "name": "stdout"
        }
      ]
    },
    {
      "metadata": {
        "id": "maR0KxSaxJmY",
        "colab_type": "code",
        "colab": {}
      },
      "cell_type": "code",
      "source": [
        "\"\"\"Import the Pandas library.\n",
        "Use the read_csv() method in Pandas to read 114_congress.csv into the variable votes.\"\"\"\n",
        "\n",
        "import pandas as pd\n",
        "\n",
        "votes = pd.read_csv('114_congress.csv')"
      ],
      "execution_count": 0,
      "outputs": []
    },
    {
      "metadata": {
        "id": "-3sR93bhT8Pf",
        "colab_type": "code",
        "outputId": "ad0935a7-e497-493b-bbfe-df582b2cc9a6",
        "colab": {
          "base_uri": "https://localhost:8080/",
          "height": 264
        }
      },
      "cell_type": "code",
      "source": [
        "votes.head()"
      ],
      "execution_count": 0,
      "outputs": [
        {
          "output_type": "execute_result",
          "data": {
            "text/html": [
              "<div>\n",
              "<style scoped>\n",
              "    .dataframe tbody tr th:only-of-type {\n",
              "        vertical-align: middle;\n",
              "    }\n",
              "\n",
              "    .dataframe tbody tr th {\n",
              "        vertical-align: top;\n",
              "    }\n",
              "\n",
              "    .dataframe thead th {\n",
              "        text-align: right;\n",
              "    }\n",
              "</style>\n",
              "<table border=\"1\" class=\"dataframe\">\n",
              "  <thead>\n",
              "    <tr style=\"text-align: right;\">\n",
              "      <th></th>\n",
              "      <th>name</th>\n",
              "      <th>party</th>\n",
              "      <th>state</th>\n",
              "      <th>00001</th>\n",
              "      <th>00004</th>\n",
              "      <th>00005</th>\n",
              "      <th>00006</th>\n",
              "      <th>00007</th>\n",
              "      <th>00008</th>\n",
              "      <th>00009</th>\n",
              "      <th>00010</th>\n",
              "      <th>00020</th>\n",
              "      <th>00026</th>\n",
              "      <th>00032</th>\n",
              "      <th>00038</th>\n",
              "      <th>00039</th>\n",
              "      <th>00044</th>\n",
              "      <th>00047</th>\n",
              "    </tr>\n",
              "  </thead>\n",
              "  <tbody>\n",
              "    <tr>\n",
              "      <th>0</th>\n",
              "      <td>Alexander</td>\n",
              "      <td>R</td>\n",
              "      <td>TN</td>\n",
              "      <td>0.0</td>\n",
              "      <td>1.0</td>\n",
              "      <td>1.0</td>\n",
              "      <td>1.0</td>\n",
              "      <td>1.0</td>\n",
              "      <td>0.0</td>\n",
              "      <td>0.0</td>\n",
              "      <td>1.0</td>\n",
              "      <td>1.0</td>\n",
              "      <td>1.0</td>\n",
              "      <td>0.0</td>\n",
              "      <td>0.0</td>\n",
              "      <td>0.0</td>\n",
              "      <td>0.0</td>\n",
              "      <td>0.0</td>\n",
              "    </tr>\n",
              "    <tr>\n",
              "      <th>1</th>\n",
              "      <td>Ayotte</td>\n",
              "      <td>R</td>\n",
              "      <td>NH</td>\n",
              "      <td>0.0</td>\n",
              "      <td>1.0</td>\n",
              "      <td>1.0</td>\n",
              "      <td>1.0</td>\n",
              "      <td>1.0</td>\n",
              "      <td>0.0</td>\n",
              "      <td>0.0</td>\n",
              "      <td>1.0</td>\n",
              "      <td>0.0</td>\n",
              "      <td>1.0</td>\n",
              "      <td>0.0</td>\n",
              "      <td>1.0</td>\n",
              "      <td>0.0</td>\n",
              "      <td>1.0</td>\n",
              "      <td>0.0</td>\n",
              "    </tr>\n",
              "    <tr>\n",
              "      <th>2</th>\n",
              "      <td>Baldwin</td>\n",
              "      <td>D</td>\n",
              "      <td>WI</td>\n",
              "      <td>1.0</td>\n",
              "      <td>0.0</td>\n",
              "      <td>0.0</td>\n",
              "      <td>1.0</td>\n",
              "      <td>0.0</td>\n",
              "      <td>1.0</td>\n",
              "      <td>0.0</td>\n",
              "      <td>1.0</td>\n",
              "      <td>0.0</td>\n",
              "      <td>0.0</td>\n",
              "      <td>1.0</td>\n",
              "      <td>1.0</td>\n",
              "      <td>0.0</td>\n",
              "      <td>1.0</td>\n",
              "      <td>1.0</td>\n",
              "    </tr>\n",
              "    <tr>\n",
              "      <th>3</th>\n",
              "      <td>Barrasso</td>\n",
              "      <td>R</td>\n",
              "      <td>WY</td>\n",
              "      <td>0.0</td>\n",
              "      <td>1.0</td>\n",
              "      <td>1.0</td>\n",
              "      <td>1.0</td>\n",
              "      <td>1.0</td>\n",
              "      <td>0.0</td>\n",
              "      <td>1.0</td>\n",
              "      <td>1.0</td>\n",
              "      <td>1.0</td>\n",
              "      <td>1.0</td>\n",
              "      <td>0.0</td>\n",
              "      <td>0.0</td>\n",
              "      <td>1.0</td>\n",
              "      <td>0.0</td>\n",
              "      <td>0.0</td>\n",
              "    </tr>\n",
              "    <tr>\n",
              "      <th>4</th>\n",
              "      <td>Bennet</td>\n",
              "      <td>D</td>\n",
              "      <td>CO</td>\n",
              "      <td>0.0</td>\n",
              "      <td>0.0</td>\n",
              "      <td>0.0</td>\n",
              "      <td>1.0</td>\n",
              "      <td>0.0</td>\n",
              "      <td>1.0</td>\n",
              "      <td>0.0</td>\n",
              "      <td>1.0</td>\n",
              "      <td>0.0</td>\n",
              "      <td>0.0</td>\n",
              "      <td>0.0</td>\n",
              "      <td>1.0</td>\n",
              "      <td>0.0</td>\n",
              "      <td>1.0</td>\n",
              "      <td>0.0</td>\n",
              "    </tr>\n",
              "  </tbody>\n",
              "</table>\n",
              "</div>"
            ],
            "text/plain": [
              "        name party state  00001  00004  00005  00006  00007  00008  00009  \\\n",
              "0  Alexander     R    TN    0.0    1.0    1.0    1.0    1.0    0.0    0.0   \n",
              "1     Ayotte     R    NH    0.0    1.0    1.0    1.0    1.0    0.0    0.0   \n",
              "2    Baldwin     D    WI    1.0    0.0    0.0    1.0    0.0    1.0    0.0   \n",
              "3   Barrasso     R    WY    0.0    1.0    1.0    1.0    1.0    0.0    1.0   \n",
              "4     Bennet     D    CO    0.0    0.0    0.0    1.0    0.0    1.0    0.0   \n",
              "\n",
              "   00010  00020  00026  00032  00038  00039  00044  00047  \n",
              "0    1.0    1.0    1.0    0.0    0.0    0.0    0.0    0.0  \n",
              "1    1.0    0.0    1.0    0.0    1.0    0.0    1.0    0.0  \n",
              "2    1.0    0.0    0.0    1.0    1.0    0.0    1.0    1.0  \n",
              "3    1.0    1.0    1.0    0.0    0.0    1.0    0.0    0.0  \n",
              "4    1.0    0.0    0.0    0.0    1.0    0.0    1.0    0.0  "
            ]
          },
          "metadata": {
            "tags": []
          },
          "execution_count": 8
        }
      ]
    },
    {
      "metadata": {
        "id": "atWfcedIVKGo",
        "colab_type": "code",
        "outputId": "9d07fc38-64f5-44a8-a096-52c3eb448e97",
        "colab": {
          "base_uri": "https://localhost:8080/",
          "height": 85
        }
      },
      "cell_type": "code",
      "source": [
        "\"\"\"Find how many Senators are in each party.\n",
        "Use the value_counts() method on the party column of votes. Print the results.\n",
        "Find what the \"average\" vote for each bill was.\n",
        "Use the mean() method on the votes Dataframe. If the mean for a column is less than .5, more Senators voted against the bill, and vice versa if it's over .5. Print the results.\"\"\"\n",
        "\n",
        "votes.party.value_counts()\n",
        "\n",
        "against_bill = votes.mean() < 0.5\n",
        "print(against_bill)"
      ],
      "execution_count": 0,
      "outputs": [
        {
          "output_type": "execute_result",
          "data": {
            "text/plain": [
              "R    54\n",
              "D    44\n",
              "I     2\n",
              "Name: party, dtype: int64"
            ]
          },
          "metadata": {
            "tags": []
          },
          "execution_count": 9
        }
      ]
    },
    {
      "metadata": {
        "id": "xO-HD-FHVZtx",
        "colab_type": "code",
        "outputId": "beef9efe-ee2c-4a63-e88f-9b0a8e2cb31e",
        "colab": {
          "base_uri": "https://localhost:8080/",
          "height": 128
        }
      },
      "cell_type": "code",
      "source": [
        "\"\"\"Compute the Euclidean distance between the first row and the third row.\n",
        "Assign the result to distance.\n",
        "tip: use series.values.reshape(1,-1) in euclidean_distance parameters\"\"\"\n",
        "from sklearn.metrics.pairwise import euclidean_distances\n",
        "\n",
        "first_row, third_row = votes.iloc[0][3:], votes.iloc[2][3:]\n",
        "\n",
        "euclidean_distances(first_row.reshape(1, -1), third_row.reshape(1, -1))"
      ],
      "execution_count": 0,
      "outputs": [
        {
          "output_type": "stream",
          "text": [
            "/usr/local/lib/python3.6/dist-packages/ipykernel_launcher.py:8: FutureWarning: reshape is deprecated and will raise in a subsequent release. Please use .values.reshape(...) instead\n",
            "  \n"
          ],
          "name": "stderr"
        },
        {
          "output_type": "execute_result",
          "data": {
            "text/plain": [
              "array([[3.31662479]])"
            ]
          },
          "metadata": {
            "tags": []
          },
          "execution_count": 22
        }
      ]
    },
    {
      "metadata": {
        "id": "FkX7YaXkV54E",
        "colab_type": "code",
        "colab": {}
      },
      "cell_type": "code",
      "source": [
        "\"\"\"Use the fit_transform() method to fit kmeans_model on the votes DataFrame. Only select columns after the first 3 from votes when fitting.\n",
        "Assign the result to senator_distances.\"\"\"\n",
        "\n",
        "from sklearn.cluster import KMeans\n",
        "import numpy as np\n",
        "\n",
        "kmeans_model = KMeans(n_clusters=2, random_state=1)\n",
        "\n",
        "senator_distances = kmeans_model.fit_transform(votes.iloc[:, 3:])"
      ],
      "execution_count": 0,
      "outputs": []
    },
    {
      "metadata": {
        "id": "slCi346zb5VV",
        "colab_type": "code",
        "outputId": "3c8cec21-4300-4d3c-ac9c-294a6d9bd582",
        "colab": {
          "base_uri": "https://localhost:8080/",
          "height": 142
        }
      },
      "cell_type": "code",
      "source": [
        "\"\"\"Use the labels_ attribute to extract the labels from kmeans_model. Assign the result to the variable labels.\n",
        "Use the crosstab() method to print out a table comparing labels to votes[\"party\"], in that order.\"\"\"\n",
        "\n",
        "labels = kmeans_model.labels_\n",
        "\n",
        "pd.crosstab(labels, votes['party'])"
      ],
      "execution_count": 0,
      "outputs": [
        {
          "output_type": "execute_result",
          "data": {
            "text/html": [
              "<div>\n",
              "<style scoped>\n",
              "    .dataframe tbody tr th:only-of-type {\n",
              "        vertical-align: middle;\n",
              "    }\n",
              "\n",
              "    .dataframe tbody tr th {\n",
              "        vertical-align: top;\n",
              "    }\n",
              "\n",
              "    .dataframe thead th {\n",
              "        text-align: right;\n",
              "    }\n",
              "</style>\n",
              "<table border=\"1\" class=\"dataframe\">\n",
              "  <thead>\n",
              "    <tr style=\"text-align: right;\">\n",
              "      <th>party</th>\n",
              "      <th>D</th>\n",
              "      <th>I</th>\n",
              "      <th>R</th>\n",
              "    </tr>\n",
              "    <tr>\n",
              "      <th>row_0</th>\n",
              "      <th></th>\n",
              "      <th></th>\n",
              "      <th></th>\n",
              "    </tr>\n",
              "  </thead>\n",
              "  <tbody>\n",
              "    <tr>\n",
              "      <th>0</th>\n",
              "      <td>41</td>\n",
              "      <td>2</td>\n",
              "      <td>0</td>\n",
              "    </tr>\n",
              "    <tr>\n",
              "      <th>1</th>\n",
              "      <td>3</td>\n",
              "      <td>0</td>\n",
              "      <td>54</td>\n",
              "    </tr>\n",
              "  </tbody>\n",
              "</table>\n",
              "</div>"
            ],
            "text/plain": [
              "party   D  I   R\n",
              "row_0           \n",
              "0      41  2   0\n",
              "1       3  0  54"
            ]
          },
          "metadata": {
            "tags": []
          },
          "execution_count": 41
        }
      ]
    },
    {
      "metadata": {
        "id": "sSiCi4AscyTO",
        "colab_type": "code",
        "outputId": "b33a7784-a3bb-4ec6-efa4-3420c4863986",
        "colab": {
          "base_uri": "https://localhost:8080/",
          "height": 230
        }
      },
      "cell_type": "code",
      "source": [
        "\"\"\"Select all senators who were assigned to the second cluster that were Democrats. Assign the subset to democratic_outliers.\n",
        "Print out democratic_outliers.\"\"\"\n",
        "\n",
        "print(votes[(labels == 1) & (votes['party'] == 'D')])"
      ],
      "execution_count": 0,
      "outputs": [
        {
          "output_type": "stream",
          "text": [
            "        name party state  00001  00004  00005  00006  00007  00008  00009  \\\n",
            "42  Heitkamp     D    ND    0.0    1.0    0.0    1.0    0.0    0.0    1.0   \n",
            "56   Manchin     D    WV    0.0    1.0    0.0    1.0    0.0    0.0    1.0   \n",
            "74      Reid     D    NV    0.5    0.5    0.5    0.5    0.5    0.5    0.5   \n",
            "\n",
            "    00010  00020  00026  00032  00038  00039  00044  00047  \n",
            "42    1.0    0.0    0.0    0.0    1.0    0.0    0.0    0.0  \n",
            "56    1.0    1.0    0.0    0.0    1.0    1.0    0.0    0.0  \n",
            "74    0.5    0.5    0.5    0.5    0.5    0.5    0.5    0.5  \n"
          ],
          "name": "stdout"
        }
      ]
    },
    {
      "metadata": {
        "id": "nfpcvELSfGS3",
        "colab_type": "code",
        "outputId": "59b6d587-f0ae-4347-fbdd-4f489635af09",
        "colab": {
          "base_uri": "https://localhost:8080/",
          "height": 347
        }
      },
      "cell_type": "code",
      "source": [
        "\"\"\"Make a scatterplot using plt.scatter(). Pass in the following keyword arguments:\n",
        "x should be the first column of senator_distances.\n",
        "y should be the second column of senator_distances.\n",
        "c should be labels. This will shade the points according to label.\n",
        "cmap should be set to \"RdBu\"\n",
        "Use plt.show() to show the plot.\"\"\"\n",
        "\n",
        "import matplotlib.pyplot as plt\n",
        "\n",
        "#senator_distances[:, 0]\n",
        "\n",
        "plt.scatter(senator_distances[:, 0], senator_distances[:, 1], c=labels.transpose(), cmap='RdBu')\n",
        "plt.show()\n"
      ],
      "execution_count": 0,
      "outputs": [
        {
          "output_type": "display_data",
          "data": {
            "image/png": "[encoded data removed]",
            "text/plain": [
              "<matplotlib.figure.Figure at 0x7f549d68ff60>"
            ]
          },
          "metadata": {
            "tags": []
          }
        }
      ]
    },
    {
      "metadata": {
        "id": "47d_W-Ngfn0X",
        "colab_type": "code",
        "outputId": "32f83f6b-5056-409d-8647-9a5c78d291b3",
        "colab": {
          "base_uri": "https://localhost:8080/",
          "height": 399
        }
      },
      "cell_type": "code",
      "source": [
        "\"\"\"Compute an extremism rating by cubing every value in senator_distances, then finding the sum across each row. Assign the result to extremism.\n",
        "Assign the extremism variable to the extremism column of votes.\n",
        "Sort votes on the extremism column, in descending order, using the sort_values() method on DataFrames.\n",
        "Print the top 10 most extreme Senators.\"\"\"\n",
        "\n",
        "extremism = np.sum(senator_distances ** 3, axis=1)\n",
        "votes['extremism'] = extremism\n",
        "\n",
        "votes.sort_values('extremism', ascending=False).head(10)"
      ],
      "execution_count": 0,
      "outputs": [
        {
          "output_type": "execute_result",
          "data": {
            "text/html": [
              "<div>\n",
              "<style scoped>\n",
              "    .dataframe tbody tr th:only-of-type {\n",
              "        vertical-align: middle;\n",
              "    }\n",
              "\n",
              "    .dataframe tbody tr th {\n",
              "        vertical-align: top;\n",
              "    }\n",
              "\n",
              "    .dataframe thead th {\n",
              "        text-align: right;\n",
              "    }\n",
              "</style>\n",
              "<table border=\"1\" class=\"dataframe\">\n",
              "  <thead>\n",
              "    <tr style=\"text-align: right;\">\n",
              "      <th></th>\n",
              "      <th>name</th>\n",
              "      <th>party</th>\n",
              "      <th>state</th>\n",
              "      <th>00001</th>\n",
              "      <th>00004</th>\n",
              "      <th>00005</th>\n",
              "      <th>00006</th>\n",
              "      <th>00007</th>\n",
              "      <th>00008</th>\n",
              "      <th>00009</th>\n",
              "      <th>00010</th>\n",
              "      <th>00020</th>\n",
              "      <th>00026</th>\n",
              "      <th>00032</th>\n",
              "      <th>00038</th>\n",
              "      <th>00039</th>\n",
              "      <th>00044</th>\n",
              "      <th>00047</th>\n",
              "      <th>extremism</th>\n",
              "    </tr>\n",
              "  </thead>\n",
              "  <tbody>\n",
              "    <tr>\n",
              "      <th>98</th>\n",
              "      <td>Wicker</td>\n",
              "      <td>R</td>\n",
              "      <td>MS</td>\n",
              "      <td>0.0</td>\n",
              "      <td>1.0</td>\n",
              "      <td>1.0</td>\n",
              "      <td>1.0</td>\n",
              "      <td>1.0</td>\n",
              "      <td>0.0</td>\n",
              "      <td>1.0</td>\n",
              "      <td>0.0</td>\n",
              "      <td>1.0</td>\n",
              "      <td>1.0</td>\n",
              "      <td>0.0</td>\n",
              "      <td>0.0</td>\n",
              "      <td>1.0</td>\n",
              "      <td>0.0</td>\n",
              "      <td>0.0</td>\n",
              "      <td>46.250476</td>\n",
              "    </tr>\n",
              "    <tr>\n",
              "      <th>53</th>\n",
              "      <td>Lankford</td>\n",
              "      <td>R</td>\n",
              "      <td>OK</td>\n",
              "      <td>0.0</td>\n",
              "      <td>1.0</td>\n",
              "      <td>1.0</td>\n",
              "      <td>0.0</td>\n",
              "      <td>1.0</td>\n",
              "      <td>0.0</td>\n",
              "      <td>1.0</td>\n",
              "      <td>1.0</td>\n",
              "      <td>1.0</td>\n",
              "      <td>1.0</td>\n",
              "      <td>0.0</td>\n",
              "      <td>0.0</td>\n",
              "      <td>1.0</td>\n",
              "      <td>0.0</td>\n",
              "      <td>0.0</td>\n",
              "      <td>46.046873</td>\n",
              "    </tr>\n",
              "    <tr>\n",
              "      <th>69</th>\n",
              "      <td>Paul</td>\n",
              "      <td>R</td>\n",
              "      <td>KY</td>\n",
              "      <td>0.0</td>\n",
              "      <td>1.0</td>\n",
              "      <td>1.0</td>\n",
              "      <td>0.0</td>\n",
              "      <td>1.0</td>\n",
              "      <td>0.0</td>\n",
              "      <td>1.0</td>\n",
              "      <td>1.0</td>\n",
              "      <td>1.0</td>\n",
              "      <td>1.0</td>\n",
              "      <td>0.0</td>\n",
              "      <td>0.0</td>\n",
              "      <td>1.0</td>\n",
              "      <td>0.0</td>\n",
              "      <td>0.0</td>\n",
              "      <td>46.046873</td>\n",
              "    </tr>\n",
              "    <tr>\n",
              "      <th>80</th>\n",
              "      <td>Sasse</td>\n",
              "      <td>R</td>\n",
              "      <td>NE</td>\n",
              "      <td>0.0</td>\n",
              "      <td>1.0</td>\n",
              "      <td>1.0</td>\n",
              "      <td>0.0</td>\n",
              "      <td>1.0</td>\n",
              "      <td>0.0</td>\n",
              "      <td>1.0</td>\n",
              "      <td>1.0</td>\n",
              "      <td>1.0</td>\n",
              "      <td>1.0</td>\n",
              "      <td>0.0</td>\n",
              "      <td>0.0</td>\n",
              "      <td>1.0</td>\n",
              "      <td>0.0</td>\n",
              "      <td>0.0</td>\n",
              "      <td>46.046873</td>\n",
              "    </tr>\n",
              "    <tr>\n",
              "      <th>26</th>\n",
              "      <td>Cruz</td>\n",
              "      <td>R</td>\n",
              "      <td>TX</td>\n",
              "      <td>0.0</td>\n",
              "      <td>1.0</td>\n",
              "      <td>1.0</td>\n",
              "      <td>0.0</td>\n",
              "      <td>1.0</td>\n",
              "      <td>0.0</td>\n",
              "      <td>1.0</td>\n",
              "      <td>1.0</td>\n",
              "      <td>1.0</td>\n",
              "      <td>1.0</td>\n",
              "      <td>0.0</td>\n",
              "      <td>0.0</td>\n",
              "      <td>1.0</td>\n",
              "      <td>0.0</td>\n",
              "      <td>0.0</td>\n",
              "      <td>46.046873</td>\n",
              "    </tr>\n",
              "    <tr>\n",
              "      <th>48</th>\n",
              "      <td>Johnson</td>\n",
              "      <td>R</td>\n",
              "      <td>WI</td>\n",
              "      <td>0.0</td>\n",
              "      <td>1.0</td>\n",
              "      <td>1.0</td>\n",
              "      <td>1.0</td>\n",
              "      <td>1.0</td>\n",
              "      <td>0.0</td>\n",
              "      <td>1.0</td>\n",
              "      <td>1.0</td>\n",
              "      <td>1.0</td>\n",
              "      <td>1.0</td>\n",
              "      <td>0.0</td>\n",
              "      <td>0.0</td>\n",
              "      <td>1.0</td>\n",
              "      <td>0.0</td>\n",
              "      <td>0.0</td>\n",
              "      <td>40.017540</td>\n",
              "    </tr>\n",
              "    <tr>\n",
              "      <th>47</th>\n",
              "      <td>Isakson</td>\n",
              "      <td>R</td>\n",
              "      <td>GA</td>\n",
              "      <td>0.0</td>\n",
              "      <td>1.0</td>\n",
              "      <td>1.0</td>\n",
              "      <td>1.0</td>\n",
              "      <td>1.0</td>\n",
              "      <td>0.0</td>\n",
              "      <td>1.0</td>\n",
              "      <td>1.0</td>\n",
              "      <td>1.0</td>\n",
              "      <td>1.0</td>\n",
              "      <td>0.0</td>\n",
              "      <td>0.0</td>\n",
              "      <td>1.0</td>\n",
              "      <td>0.0</td>\n",
              "      <td>0.0</td>\n",
              "      <td>40.017540</td>\n",
              "    </tr>\n",
              "    <tr>\n",
              "      <th>65</th>\n",
              "      <td>Murkowski</td>\n",
              "      <td>R</td>\n",
              "      <td>AK</td>\n",
              "      <td>0.0</td>\n",
              "      <td>1.0</td>\n",
              "      <td>1.0</td>\n",
              "      <td>1.0</td>\n",
              "      <td>1.0</td>\n",
              "      <td>0.0</td>\n",
              "      <td>1.0</td>\n",
              "      <td>1.0</td>\n",
              "      <td>1.0</td>\n",
              "      <td>1.0</td>\n",
              "      <td>0.0</td>\n",
              "      <td>0.0</td>\n",
              "      <td>1.0</td>\n",
              "      <td>0.0</td>\n",
              "      <td>0.0</td>\n",
              "      <td>40.017540</td>\n",
              "    </tr>\n",
              "    <tr>\n",
              "      <th>64</th>\n",
              "      <td>Moran</td>\n",
              "      <td>R</td>\n",
              "      <td>KS</td>\n",
              "      <td>0.0</td>\n",
              "      <td>1.0</td>\n",
              "      <td>1.0</td>\n",
              "      <td>1.0</td>\n",
              "      <td>1.0</td>\n",
              "      <td>0.0</td>\n",
              "      <td>1.0</td>\n",
              "      <td>1.0</td>\n",
              "      <td>1.0</td>\n",
              "      <td>1.0</td>\n",
              "      <td>0.0</td>\n",
              "      <td>0.0</td>\n",
              "      <td>1.0</td>\n",
              "      <td>0.0</td>\n",
              "      <td>0.0</td>\n",
              "      <td>40.017540</td>\n",
              "    </tr>\n",
              "    <tr>\n",
              "      <th>30</th>\n",
              "      <td>Enzi</td>\n",
              "      <td>R</td>\n",
              "      <td>WY</td>\n",
              "      <td>0.0</td>\n",
              "      <td>1.0</td>\n",
              "      <td>1.0</td>\n",
              "      <td>1.0</td>\n",
              "      <td>1.0</td>\n",
              "      <td>0.0</td>\n",
              "      <td>1.0</td>\n",
              "      <td>1.0</td>\n",
              "      <td>1.0</td>\n",
              "      <td>1.0</td>\n",
              "      <td>0.0</td>\n",
              "      <td>0.0</td>\n",
              "      <td>1.0</td>\n",
              "      <td>0.0</td>\n",
              "      <td>0.0</td>\n",
              "      <td>40.017540</td>\n",
              "    </tr>\n",
              "  </tbody>\n",
              "</table>\n",
              "</div>"
            ],
            "text/plain": [
              "         name party state  00001  00004  00005  00006  00007  00008  00009  \\\n",
              "98     Wicker     R    MS    0.0    1.0    1.0    1.0    1.0    0.0    1.0   \n",
              "53   Lankford     R    OK    0.0    1.0    1.0    0.0    1.0    0.0    1.0   \n",
              "69       Paul     R    KY    0.0    1.0    1.0    0.0    1.0    0.0    1.0   \n",
              "80      Sasse     R    NE    0.0    1.0    1.0    0.0    1.0    0.0    1.0   \n",
              "26       Cruz     R    TX    0.0    1.0    1.0    0.0    1.0    0.0    1.0   \n",
              "48    Johnson     R    WI    0.0    1.0    1.0    1.0    1.0    0.0    1.0   \n",
              "47    Isakson     R    GA    0.0    1.0    1.0    1.0    1.0    0.0    1.0   \n",
              "65  Murkowski     R    AK    0.0    1.0    1.0    1.0    1.0    0.0    1.0   \n",
              "64      Moran     R    KS    0.0    1.0    1.0    1.0    1.0    0.0    1.0   \n",
              "30       Enzi     R    WY    0.0    1.0    1.0    1.0    1.0    0.0    1.0   \n",
              "\n",
              "    00010  00020  00026  00032  00038  00039  00044  00047  extremism  \n",
              "98    0.0    1.0    1.0    0.0    0.0    1.0    0.0    0.0  46.250476  \n",
              "53    1.0    1.0    1.0    0.0    0.0    1.0    0.0    0.0  46.046873  \n",
              "69    1.0    1.0    1.0    0.0    0.0    1.0    0.0    0.0  46.046873  \n",
              "80    1.0    1.0    1.0    0.0    0.0    1.0    0.0    0.0  46.046873  \n",
              "26    1.0    1.0    1.0    0.0    0.0    1.0    0.0    0.0  46.046873  \n",
              "48    1.0    1.0    1.0    0.0    0.0    1.0    0.0    0.0  40.017540  \n",
              "47    1.0    1.0    1.0    0.0    0.0    1.0    0.0    0.0  40.017540  \n",
              "65    1.0    1.0    1.0    0.0    0.0    1.0    0.0    0.0  40.017540  \n",
              "64    1.0    1.0    1.0    0.0    0.0    1.0    0.0    0.0  40.017540  \n",
              "30    1.0    1.0    1.0    0.0    0.0    1.0    0.0    0.0  40.017540  "
            ]
          },
          "metadata": {
            "tags": []
          },
          "execution_count": 62
        }
      ]
    },
    {
      "metadata": {
        "id": "Jonw0gqBqNK2",
        "colab_type": "code",
        "outputId": "9cb3b6e1-e329-4be7-9340-1e3edd6c9b5d",
        "colab": {
          "base_uri": "https://localhost:8080/",
          "height": 329
        }
      },
      "cell_type": "code",
      "source": [
        "\n",
        "import pandas as pd\n",
        "import numpy as np\n",
        "\n",
        "# visualize more columns\n",
        "pd.set_option('display.max_columns', 50)\n",
        "\n",
        "nba = pd.read_csv(\"nba_2013.csv\")\n",
        "nba.head()"
      ],
      "execution_count": 0,
      "outputs": [
        {
          "output_type": "execute_result",
          "data": {
            "text/html": [
              "<div>\n",
              "<style scoped>\n",
              "    .dataframe tbody tr th:only-of-type {\n",
              "        vertical-align: middle;\n",
              "    }\n",
              "\n",
              "    .dataframe tbody tr th {\n",
              "        vertical-align: top;\n",
              "    }\n",
              "\n",
              "    .dataframe thead th {\n",
              "        text-align: right;\n",
              "    }\n",
              "</style>\n",
              "<table border=\"1\" class=\"dataframe\">\n",
              "  <thead>\n",
              "    <tr style=\"text-align: right;\">\n",
              "      <th></th>\n",
              "      <th>player</th>\n",
              "      <th>pos</th>\n",
              "      <th>age</th>\n",
              "      <th>bref_team_id</th>\n",
              "      <th>g</th>\n",
              "      <th>gs</th>\n",
              "      <th>mp</th>\n",
              "      <th>fg</th>\n",
              "      <th>fga</th>\n",
              "      <th>fg.</th>\n",
              "      <th>x3p</th>\n",
              "      <th>x3pa</th>\n",
              "      <th>x3p.</th>\n",
              "      <th>x2p</th>\n",
              "      <th>x2pa</th>\n",
              "      <th>x2p.</th>\n",
              "      <th>efg.</th>\n",
              "      <th>ft</th>\n",
              "      <th>fta</th>\n",
              "      <th>ft.</th>\n",
              "      <th>orb</th>\n",
              "      <th>drb</th>\n",
              "      <th>trb</th>\n",
              "      <th>ast</th>\n",
              "      <th>stl</th>\n",
              "      <th>blk</th>\n",
              "      <th>tov</th>\n",
              "      <th>pf</th>\n",
              "      <th>pts</th>\n",
              "      <th>season</th>\n",
              "      <th>season_end</th>\n",
              "    </tr>\n",
              "  </thead>\n",
              "  <tbody>\n",
              "    <tr>\n",
              "      <th>0</th>\n",
              "      <td>Quincy Acy</td>\n",
              "      <td>SF</td>\n",
              "      <td>23</td>\n",
              "      <td>TOT</td>\n",
              "      <td>63</td>\n",
              "      <td>0</td>\n",
              "      <td>847</td>\n",
              "      <td>66</td>\n",
              "      <td>141</td>\n",
              "      <td>0.468</td>\n",
              "      <td>4</td>\n",
              "      <td>15</td>\n",
              "      <td>0.266667</td>\n",
              "      <td>62</td>\n",
              "      <td>126</td>\n",
              "      <td>0.492063</td>\n",
              "      <td>0.482</td>\n",
              "      <td>35</td>\n",
              "      <td>53</td>\n",
              "      <td>0.660</td>\n",
              "      <td>72</td>\n",
              "      <td>144</td>\n",
              "      <td>216</td>\n",
              "      <td>28</td>\n",
              "      <td>23</td>\n",
              "      <td>26</td>\n",
              "      <td>30</td>\n",
              "      <td>122</td>\n",
              "      <td>171</td>\n",
              "      <td>2013-2014</td>\n",
              "      <td>2013</td>\n",
              "    </tr>\n",
              "    <tr>\n",
              "      <th>1</th>\n",
              "      <td>Steven Adams</td>\n",
              "      <td>C</td>\n",
              "      <td>20</td>\n",
              "      <td>OKC</td>\n",
              "      <td>81</td>\n",
              "      <td>20</td>\n",
              "      <td>1197</td>\n",
              "      <td>93</td>\n",
              "      <td>185</td>\n",
              "      <td>0.503</td>\n",
              "      <td>0</td>\n",
              "      <td>0</td>\n",
              "      <td>NaN</td>\n",
              "      <td>93</td>\n",
              "      <td>185</td>\n",
              "      <td>0.502703</td>\n",
              "      <td>0.503</td>\n",
              "      <td>79</td>\n",
              "      <td>136</td>\n",
              "      <td>0.581</td>\n",
              "      <td>142</td>\n",
              "      <td>190</td>\n",
              "      <td>332</td>\n",
              "      <td>43</td>\n",
              "      <td>40</td>\n",
              "      <td>57</td>\n",
              "      <td>71</td>\n",
              "      <td>203</td>\n",
              "      <td>265</td>\n",
              "      <td>2013-2014</td>\n",
              "      <td>2013</td>\n",
              "    </tr>\n",
              "    <tr>\n",
              "      <th>2</th>\n",
              "      <td>Jeff Adrien</td>\n",
              "      <td>PF</td>\n",
              "      <td>27</td>\n",
              "      <td>TOT</td>\n",
              "      <td>53</td>\n",
              "      <td>12</td>\n",
              "      <td>961</td>\n",
              "      <td>143</td>\n",
              "      <td>275</td>\n",
              "      <td>0.520</td>\n",
              "      <td>0</td>\n",
              "      <td>0</td>\n",
              "      <td>NaN</td>\n",
              "      <td>143</td>\n",
              "      <td>275</td>\n",
              "      <td>0.520000</td>\n",
              "      <td>0.520</td>\n",
              "      <td>76</td>\n",
              "      <td>119</td>\n",
              "      <td>0.639</td>\n",
              "      <td>102</td>\n",
              "      <td>204</td>\n",
              "      <td>306</td>\n",
              "      <td>38</td>\n",
              "      <td>24</td>\n",
              "      <td>36</td>\n",
              "      <td>39</td>\n",
              "      <td>108</td>\n",
              "      <td>362</td>\n",
              "      <td>2013-2014</td>\n",
              "      <td>2013</td>\n",
              "    </tr>\n",
              "    <tr>\n",
              "      <th>3</th>\n",
              "      <td>Arron Afflalo</td>\n",
              "      <td>SG</td>\n",
              "      <td>28</td>\n",
              "      <td>ORL</td>\n",
              "      <td>73</td>\n",
              "      <td>73</td>\n",
              "      <td>2552</td>\n",
              "      <td>464</td>\n",
              "      <td>1011</td>\n",
              "      <td>0.459</td>\n",
              "      <td>128</td>\n",
              "      <td>300</td>\n",
              "      <td>0.426667</td>\n",
              "      <td>336</td>\n",
              "      <td>711</td>\n",
              "      <td>0.472574</td>\n",
              "      <td>0.522</td>\n",
              "      <td>274</td>\n",
              "      <td>336</td>\n",
              "      <td>0.815</td>\n",
              "      <td>32</td>\n",
              "      <td>230</td>\n",
              "      <td>262</td>\n",
              "      <td>248</td>\n",
              "      <td>35</td>\n",
              "      <td>3</td>\n",
              "      <td>146</td>\n",
              "      <td>136</td>\n",
              "      <td>1330</td>\n",
              "      <td>2013-2014</td>\n",
              "      <td>2013</td>\n",
              "    </tr>\n",
              "    <tr>\n",
              "      <th>4</th>\n",
              "      <td>Alexis Ajinca</td>\n",
              "      <td>C</td>\n",
              "      <td>25</td>\n",
              "      <td>NOP</td>\n",
              "      <td>56</td>\n",
              "      <td>30</td>\n",
              "      <td>951</td>\n",
              "      <td>136</td>\n",
              "      <td>249</td>\n",
              "      <td>0.546</td>\n",
              "      <td>0</td>\n",
              "      <td>1</td>\n",
              "      <td>0.000000</td>\n",
              "      <td>136</td>\n",
              "      <td>248</td>\n",
              "      <td>0.548387</td>\n",
              "      <td>0.546</td>\n",
              "      <td>56</td>\n",
              "      <td>67</td>\n",
              "      <td>0.836</td>\n",
              "      <td>94</td>\n",
              "      <td>183</td>\n",
              "      <td>277</td>\n",
              "      <td>40</td>\n",
              "      <td>23</td>\n",
              "      <td>46</td>\n",
              "      <td>63</td>\n",
              "      <td>187</td>\n",
              "      <td>328</td>\n",
              "      <td>2013-2014</td>\n",
              "      <td>2013</td>\n",
              "    </tr>\n",
              "  </tbody>\n",
              "</table>\n",
              "</div>"
            ],
            "text/plain": [
              "          player pos  age bref_team_id   g  gs    mp   fg   fga    fg.  x3p  \\\n",
              "0     Quincy Acy  SF   23          TOT  63   0   847   66   141  0.468    4   \n",
              "1   Steven Adams   C   20          OKC  81  20  1197   93   185  0.503    0   \n",
              "2    Jeff Adrien  PF   27          TOT  53  12   961  143   275  0.520    0   \n",
              "3  Arron Afflalo  SG   28          ORL  73  73  2552  464  1011  0.459  128   \n",
              "4  Alexis Ajinca   C   25          NOP  56  30   951  136   249  0.546    0   \n",
              "\n",
              "   x3pa      x3p.  x2p  x2pa      x2p.   efg.   ft  fta    ft.  orb  drb  trb  \\\n",
              "0    15  0.266667   62   126  0.492063  0.482   35   53  0.660   72  144  216   \n",
              "1     0       NaN   93   185  0.502703  0.503   79  136  0.581  142  190  332   \n",
              "2     0       NaN  143   275  0.520000  0.520   76  119  0.639  102  204  306   \n",
              "3   300  0.426667  336   711  0.472574  0.522  274  336  0.815   32  230  262   \n",
              "4     1  0.000000  136   248  0.548387  0.546   56   67  0.836   94  183  277   \n",
              "\n",
              "   ast  stl  blk  tov   pf   pts     season  season_end  \n",
              "0   28   23   26   30  122   171  2013-2014        2013  \n",
              "1   43   40   57   71  203   265  2013-2014        2013  \n",
              "2   38   24   36   39  108   362  2013-2014        2013  \n",
              "3  248   35    3  146  136  1330  2013-2014        2013  \n",
              "4   40   23   46   63  187   328  2013-2014        2013  "
            ]
          },
          "metadata": {
            "tags": []
          },
          "execution_count": 63
        }
      ]
    },
    {
      "metadata": {
        "id": "7RyjftDfldKM",
        "colab_type": "code",
        "colab": {}
      },
      "cell_type": "code",
      "source": [
        "\"\"\"Create a new Dataframe which contains just the point guards from the data set.\n",
        "Point guards are specified as PG in the pos column.\n",
        "Assign the filtered data frame to point_guards.\"\"\"\n",
        "\n",
        "point_guards = nba[nba['pos'] == 'PG']"
      ],
      "execution_count": 0,
      "outputs": []
    },
    {
      "metadata": {
        "id": "UfjnQWJ_qUJ-",
        "colab_type": "code",
        "outputId": "0b1208b1-b26b-40a1-dc18-632ce53742dd",
        "colab": {
          "base_uri": "https://localhost:8080/",
          "height": 431
        }
      },
      "cell_type": "code",
      "source": [
        "\"\"\"While our dataset doesn't come with Points Per Game values, we can easily calculate those using each player's total points (pts) and the number of games (g) they played. Let's take advantage of pandas' ability to multiply and divide columns to create the Points Per Game ppg column by dividing the pts and g columns.\"\"\"\n",
        "\n",
        "point_guards['ppg'] = point_guards['pts'] / point_guards['g']\n",
        "point_guards.head()"
      ],
      "execution_count": 0,
      "outputs": [
        {
          "output_type": "stream",
          "text": [
            "/usr/local/lib/python3.6/dist-packages/ipykernel_launcher.py:3: SettingWithCopyWarning: \n",
            "A value is trying to be set on a copy of a slice from a DataFrame.\n",
            "Try using .loc[row_indexer,col_indexer] = value instead\n",
            "\n",
            "See the caveats in the documentation: http://pandas.pydata.org/pandas-docs/stable/indexing.html#indexing-view-versus-copy\n",
            "  This is separate from the ipykernel package so we can avoid doing imports until\n"
          ],
          "name": "stderr"
        },
        {
          "output_type": "execute_result",
          "data": {
            "text/html": [
              "<div>\n",
              "<style scoped>\n",
              "    .dataframe tbody tr th:only-of-type {\n",
              "        vertical-align: middle;\n",
              "    }\n",
              "\n",
              "    .dataframe tbody tr th {\n",
              "        vertical-align: top;\n",
              "    }\n",
              "\n",
              "    .dataframe thead th {\n",
              "        text-align: right;\n",
              "    }\n",
              "</style>\n",
              "<table border=\"1\" class=\"dataframe\">\n",
              "  <thead>\n",
              "    <tr style=\"text-align: right;\">\n",
              "      <th></th>\n",
              "      <th>player</th>\n",
              "      <th>pos</th>\n",
              "      <th>age</th>\n",
              "      <th>bref_team_id</th>\n",
              "      <th>g</th>\n",
              "      <th>gs</th>\n",
              "      <th>mp</th>\n",
              "      <th>fg</th>\n",
              "      <th>fga</th>\n",
              "      <th>fg.</th>\n",
              "      <th>x3p</th>\n",
              "      <th>x3pa</th>\n",
              "      <th>x3p.</th>\n",
              "      <th>x2p</th>\n",
              "      <th>x2pa</th>\n",
              "      <th>x2p.</th>\n",
              "      <th>efg.</th>\n",
              "      <th>ft</th>\n",
              "      <th>fta</th>\n",
              "      <th>ft.</th>\n",
              "      <th>orb</th>\n",
              "      <th>drb</th>\n",
              "      <th>trb</th>\n",
              "      <th>ast</th>\n",
              "      <th>stl</th>\n",
              "      <th>blk</th>\n",
              "      <th>tov</th>\n",
              "      <th>pf</th>\n",
              "      <th>pts</th>\n",
              "      <th>season</th>\n",
              "      <th>season_end</th>\n",
              "      <th>ppg</th>\n",
              "    </tr>\n",
              "  </thead>\n",
              "  <tbody>\n",
              "    <tr>\n",
              "      <th>24</th>\n",
              "      <td>D.J. Augustin</td>\n",
              "      <td>PG</td>\n",
              "      <td>26</td>\n",
              "      <td>TOT</td>\n",
              "      <td>71</td>\n",
              "      <td>9</td>\n",
              "      <td>1939</td>\n",
              "      <td>298</td>\n",
              "      <td>718</td>\n",
              "      <td>0.415</td>\n",
              "      <td>133</td>\n",
              "      <td>332</td>\n",
              "      <td>0.400602</td>\n",
              "      <td>165</td>\n",
              "      <td>386</td>\n",
              "      <td>0.427461</td>\n",
              "      <td>0.508</td>\n",
              "      <td>201</td>\n",
              "      <td>227</td>\n",
              "      <td>0.885</td>\n",
              "      <td>15</td>\n",
              "      <td>115</td>\n",
              "      <td>130</td>\n",
              "      <td>313</td>\n",
              "      <td>53</td>\n",
              "      <td>3</td>\n",
              "      <td>125</td>\n",
              "      <td>147</td>\n",
              "      <td>930</td>\n",
              "      <td>2013-2014</td>\n",
              "      <td>2013</td>\n",
              "      <td>13.098592</td>\n",
              "    </tr>\n",
              "    <tr>\n",
              "      <th>29</th>\n",
              "      <td>Leandro Barbosa</td>\n",
              "      <td>PG</td>\n",
              "      <td>31</td>\n",
              "      <td>PHO</td>\n",
              "      <td>20</td>\n",
              "      <td>0</td>\n",
              "      <td>368</td>\n",
              "      <td>56</td>\n",
              "      <td>131</td>\n",
              "      <td>0.427</td>\n",
              "      <td>7</td>\n",
              "      <td>25</td>\n",
              "      <td>0.280000</td>\n",
              "      <td>49</td>\n",
              "      <td>106</td>\n",
              "      <td>0.462264</td>\n",
              "      <td>0.454</td>\n",
              "      <td>31</td>\n",
              "      <td>39</td>\n",
              "      <td>0.795</td>\n",
              "      <td>5</td>\n",
              "      <td>32</td>\n",
              "      <td>37</td>\n",
              "      <td>32</td>\n",
              "      <td>7</td>\n",
              "      <td>4</td>\n",
              "      <td>19</td>\n",
              "      <td>30</td>\n",
              "      <td>150</td>\n",
              "      <td>2013-2014</td>\n",
              "      <td>2013</td>\n",
              "      <td>7.500000</td>\n",
              "    </tr>\n",
              "    <tr>\n",
              "      <th>30</th>\n",
              "      <td>Jose Barea</td>\n",
              "      <td>PG</td>\n",
              "      <td>29</td>\n",
              "      <td>MIN</td>\n",
              "      <td>79</td>\n",
              "      <td>1</td>\n",
              "      <td>1471</td>\n",
              "      <td>254</td>\n",
              "      <td>656</td>\n",
              "      <td>0.387</td>\n",
              "      <td>73</td>\n",
              "      <td>231</td>\n",
              "      <td>0.316017</td>\n",
              "      <td>181</td>\n",
              "      <td>425</td>\n",
              "      <td>0.425882</td>\n",
              "      <td>0.443</td>\n",
              "      <td>79</td>\n",
              "      <td>100</td>\n",
              "      <td>0.790</td>\n",
              "      <td>16</td>\n",
              "      <td>138</td>\n",
              "      <td>154</td>\n",
              "      <td>303</td>\n",
              "      <td>26</td>\n",
              "      <td>0</td>\n",
              "      <td>125</td>\n",
              "      <td>129</td>\n",
              "      <td>660</td>\n",
              "      <td>2013-2014</td>\n",
              "      <td>2013</td>\n",
              "      <td>8.354430</td>\n",
              "    </tr>\n",
              "    <tr>\n",
              "      <th>38</th>\n",
              "      <td>Jerryd Bayless</td>\n",
              "      <td>PG</td>\n",
              "      <td>25</td>\n",
              "      <td>TOT</td>\n",
              "      <td>72</td>\n",
              "      <td>19</td>\n",
              "      <td>1686</td>\n",
              "      <td>248</td>\n",
              "      <td>617</td>\n",
              "      <td>0.402</td>\n",
              "      <td>76</td>\n",
              "      <td>212</td>\n",
              "      <td>0.358491</td>\n",
              "      <td>172</td>\n",
              "      <td>405</td>\n",
              "      <td>0.424691</td>\n",
              "      <td>0.464</td>\n",
              "      <td>94</td>\n",
              "      <td>118</td>\n",
              "      <td>0.797</td>\n",
              "      <td>22</td>\n",
              "      <td>123</td>\n",
              "      <td>145</td>\n",
              "      <td>194</td>\n",
              "      <td>60</td>\n",
              "      <td>9</td>\n",
              "      <td>82</td>\n",
              "      <td>161</td>\n",
              "      <td>666</td>\n",
              "      <td>2013-2014</td>\n",
              "      <td>2013</td>\n",
              "      <td>9.250000</td>\n",
              "    </tr>\n",
              "    <tr>\n",
              "      <th>50</th>\n",
              "      <td>Steve Blake</td>\n",
              "      <td>PG</td>\n",
              "      <td>33</td>\n",
              "      <td>TOT</td>\n",
              "      <td>55</td>\n",
              "      <td>28</td>\n",
              "      <td>1498</td>\n",
              "      <td>133</td>\n",
              "      <td>353</td>\n",
              "      <td>0.377</td>\n",
              "      <td>79</td>\n",
              "      <td>210</td>\n",
              "      <td>0.376190</td>\n",
              "      <td>54</td>\n",
              "      <td>143</td>\n",
              "      <td>0.377622</td>\n",
              "      <td>0.489</td>\n",
              "      <td>33</td>\n",
              "      <td>43</td>\n",
              "      <td>0.767</td>\n",
              "      <td>13</td>\n",
              "      <td>146</td>\n",
              "      <td>159</td>\n",
              "      <td>307</td>\n",
              "      <td>54</td>\n",
              "      <td>8</td>\n",
              "      <td>102</td>\n",
              "      <td>85</td>\n",
              "      <td>378</td>\n",
              "      <td>2013-2014</td>\n",
              "      <td>2013</td>\n",
              "      <td>6.872727</td>\n",
              "    </tr>\n",
              "  </tbody>\n",
              "</table>\n",
              "</div>"
            ],
            "text/plain": [
              "             player pos  age bref_team_id   g  gs    mp   fg  fga    fg.  x3p  \\\n",
              "24    D.J. Augustin  PG   26          TOT  71   9  1939  298  718  0.415  133   \n",
              "29  Leandro Barbosa  PG   31          PHO  20   0   368   56  131  0.427    7   \n",
              "30       Jose Barea  PG   29          MIN  79   1  1471  254  656  0.387   73   \n",
              "38   Jerryd Bayless  PG   25          TOT  72  19  1686  248  617  0.402   76   \n",
              "50      Steve Blake  PG   33          TOT  55  28  1498  133  353  0.377   79   \n",
              "\n",
              "    x3pa      x3p.  x2p  x2pa      x2p.   efg.   ft  fta    ft.  orb  drb  \\\n",
              "24   332  0.400602  165   386  0.427461  0.508  201  227  0.885   15  115   \n",
              "29    25  0.280000   49   106  0.462264  0.454   31   39  0.795    5   32   \n",
              "30   231  0.316017  181   425  0.425882  0.443   79  100  0.790   16  138   \n",
              "38   212  0.358491  172   405  0.424691  0.464   94  118  0.797   22  123   \n",
              "50   210  0.376190   54   143  0.377622  0.489   33   43  0.767   13  146   \n",
              "\n",
              "    trb  ast  stl  blk  tov   pf  pts     season  season_end        ppg  \n",
              "24  130  313   53    3  125  147  930  2013-2014        2013  13.098592  \n",
              "29   37   32    7    4   19   30  150  2013-2014        2013   7.500000  \n",
              "30  154  303   26    0  125  129  660  2013-2014        2013   8.354430  \n",
              "38  145  194   60    9   82  161  666  2013-2014        2013   9.250000  \n",
              "50  159  307   54    8  102   85  378  2013-2014        2013   6.872727  "
            ]
          },
          "metadata": {
            "tags": []
          },
          "execution_count": 76
        }
      ]
    },
    {
      "metadata": {
        "id": "tphXpkefqwtv",
        "colab_type": "code",
        "outputId": "246eac59-e97b-4ea8-a3fa-d52a4758e386",
        "colab": {
          "base_uri": "https://localhost:8080/",
          "height": 159
        }
      },
      "cell_type": "code",
      "source": [
        "\"\"\"Drop the players who have 0 turnovers.\n",
        "Not only did these players only play a few games, making it hard to understand their true abilities, but we also cannot divide by 0 when we calculate atr.\n",
        "Utilize the same division technique we used with Points Per Game to create the Assist Turnover Ratio (atr) column for point_guards.\"\"\"\n",
        "\n",
        "tov_0 = point_guards[point_guards['tov'] == 0]\n",
        "#tov_0\n",
        "point_guards.drop(tov_0.index.values.tolist(), inplace=True) # Drop #109 397 456\n",
        "point_guards['atr'] = point_guards['ast'] / point_guards['tov']"
      ],
      "execution_count": 0,
      "outputs": [
        {
          "output_type": "stream",
          "text": [
            "/usr/local/lib/python3.6/dist-packages/ipykernel_launcher.py:8: SettingWithCopyWarning: \n",
            "A value is trying to be set on a copy of a slice from a DataFrame.\n",
            "Try using .loc[row_indexer,col_indexer] = value instead\n",
            "\n",
            "See the caveats in the documentation: http://pandas.pydata.org/pandas-docs/stable/indexing.html#indexing-view-versus-copy\n",
            "  \n"
          ],
          "name": "stderr"
        }
      ]
    },
    {
      "metadata": {
        "id": "LymcFNBTsL8K",
        "colab_type": "code",
        "outputId": "ca46fbc4-59e7-4965-c14f-6e09f654b78f",
        "colab": {
          "base_uri": "https://localhost:8080/",
          "height": 347
        }
      },
      "cell_type": "code",
      "source": [
        "plt.scatter(point_guards['ppg'], point_guards['atr'])\n",
        "plt.show()"
      ],
      "execution_count": 0,
      "outputs": [
        {
          "output_type": "display_data",
          "data": {
            "image/png": "[encoded data removed]",
            "text/plain": [
              "<matplotlib.figure.Figure at 0x7f54a44a6cc0>"
            ]
          },
          "metadata": {
            "tags": []
          }
        }
      ]
    },
    {
      "metadata": {
        "id": "1qE0Y5RNtc0Y",
        "colab_type": "code",
        "colab": {}
      },
      "cell_type": "code",
      "source": [
        "num_clusters = 5\n",
        "\n",
        "# Use numpy's random function to generate a list, \n",
        "# length: num_clusters, of indices\n",
        "random_initial_points = np.random.choice(point_guards.index, size=num_clusters)\n",
        "\n",
        "# Use the random indices to create the centroids\n",
        "centroids = point_guards.loc[random_initial_points]"
      ],
      "execution_count": 0,
      "outputs": []
    },
    {
      "metadata": {
        "id": "MFddsuxxwCvb",
        "colab_type": "code",
        "outputId": "a5437acd-1a35-4c90-988b-0e824362fd74",
        "colab": {
          "base_uri": "https://localhost:8080/",
          "height": 347
        }
      },
      "cell_type": "code",
      "source": [
        "\"\"\"Plot a scatter figure using ppg and atr from point_guards.\n",
        "In the same figure, create a scatter plot using ppg and atr from centroids.\"\"\"\n",
        "\n",
        "plt.scatter(point_guards['ppg'], point_guards['atr'], c='b')\n",
        "plt.scatter(centroids['ppg'], centroids['atr'], c='r')\n",
        "plt.show()"
      ],
      "execution_count": 0,
      "outputs": [
        {
          "output_type": "display_data",
          "data": {
            "image/png": "[encoded data removed]",
            "text/plain": [
              "<matplotlib.figure.Figure at 0x7f54a00bccf8>"
            ]
          },
          "metadata": {
            "tags": []
          }
        }
      ]
    },
    {
      "metadata": {
        "id": "EBvj7nvewcvm",
        "colab_type": "code",
        "colab": {}
      },
      "cell_type": "code",
      "source": [
        "def centroids_to_dict(centroids):\n",
        "    dictionary = dict()\n",
        "    # iterating counter we use to generate a cluster_id\n",
        "    counter = 0\n",
        "\n",
        "    # iterate a pandas data frame row-wise using .iterrows()\n",
        "    for index, row in centroids.iterrows():\n",
        "        coordinates = [row['ppg'], row['atr']]\n",
        "        dictionary[counter] = coordinates\n",
        "        counter += 1\n",
        "\n",
        "    return dictionary\n",
        "\n",
        "centroids_dict = centroids_to_dict(centroids)"
      ],
      "execution_count": 0,
      "outputs": []
    },
    {
      "metadata": {
        "id": "bR9wG3wrwp2f",
        "colab_type": "code",
        "outputId": "f39aa1d4-f05d-4ce8-ec5e-4ca52bf099e5",
        "colab": {
          "base_uri": "https://localhost:8080/",
          "height": 34
        }
      },
      "cell_type": "code",
      "source": [
        "import math\n",
        "\n",
        "def calculate_distance(centroid, player_values):\n",
        "    root_distance = 0\n",
        "    \n",
        "    for x in range(0, len(centroid)):\n",
        "        difference = centroid[x] - player_values[x]\n",
        "        squared_difference = difference**2\n",
        "        root_distance += squared_difference\n",
        "\n",
        "    euclid_distance = math.sqrt(root_distance)\n",
        "    return euclid_distance\n",
        "\n",
        "q = [5, 2]\n",
        "p = [3,1]\n",
        "\n",
        "# Sqrt(5) = ~2.24\n",
        "print(calculate_distance(q, p))"
      ],
      "execution_count": 0,
      "outputs": [
        {
          "output_type": "stream",
          "text": [
            "2.23606797749979\n"
          ],
          "name": "stdout"
        }
      ]
    },
    {
      "metadata": {
        "id": "J6qhFq5GwryA",
        "colab_type": "code",
        "outputId": "7549f176-042b-487f-fb22-66524da35889",
        "colab": {
          "base_uri": "https://localhost:8080/",
          "height": 142
        }
      },
      "cell_type": "code",
      "source": [
        "def assign_to_cluster(row):\n",
        "    lowest_distance = -1\n",
        "    closest_cluster = -1\n",
        "    \n",
        "    for cluster_id, centroid in centroids_dict.items():\n",
        "        df_row = [row['ppg'], row['atr']]\n",
        "        euclidean_distance = calculate_distance(centroid, df_row)\n",
        "        \n",
        "        if lowest_distance == -1:\n",
        "            lowest_distance = euclidean_distance\n",
        "            closest_cluster = cluster_id \n",
        "        elif euclidean_distance < lowest_distance:\n",
        "            lowest_distance = euclidean_distance\n",
        "            closest_cluster = cluster_id\n",
        "    return closest_cluster\n",
        "\n",
        "point_guards['cluster'] = point_guards.apply(lambda row: assign_to_cluster(row), axis=1)"
      ],
      "execution_count": 0,
      "outputs": [
        {
          "output_type": "stream",
          "text": [
            "/usr/local/lib/python3.6/dist-packages/ipykernel_launcher.py:17: SettingWithCopyWarning: \n",
            "A value is trying to be set on a copy of a slice from a DataFrame.\n",
            "Try using .loc[row_indexer,col_indexer] = value instead\n",
            "\n",
            "See the caveats in the documentation: http://pandas.pydata.org/pandas-docs/stable/indexing.html#indexing-view-versus-copy\n"
          ],
          "name": "stderr"
        }
      ]
    },
    {
      "metadata": {
        "id": "Ojt9WWT4wuiO",
        "colab_type": "code",
        "outputId": "9964a19e-75e7-4485-87cb-1ef2d9dbe77d",
        "colab": {
          "base_uri": "https://localhost:8080/",
          "height": 363
        }
      },
      "cell_type": "code",
      "source": [
        "# Visualizing clusters\n",
        "def visualize_clusters(df, num_clusters):\n",
        "    colors = ['b', 'g', 'r', 'c', 'm', 'y', 'k']\n",
        "\n",
        "    for n in range(num_clusters):\n",
        "        clustered_df = df[df['cluster'] == n]\n",
        "        plt.scatter(clustered_df['ppg'], clustered_df['atr'], c=colors[n-1])\n",
        "        plt.xlabel('Points Per Game', fontsize=13)\n",
        "        plt.ylabel('Assist Turnover Ratio', fontsize=13)\n",
        "    plt.show()\n",
        "\n",
        "visualize_clusters(point_guards, 5)"
      ],
      "execution_count": 0,
      "outputs": [
        {
          "output_type": "display_data",
          "data": {
            "image/png": "[encoded data removed]",
            "text/plain": [
              "<matplotlib.figure.Figure at 0x7f549d699a58>"
            ]
          },
          "metadata": {
            "tags": []
          }
        }
      ]
    },
    {
      "metadata": {
        "id": "jouSJSMowxJt",
        "colab_type": "code",
        "colab": {}
      },
      "cell_type": "code",
      "source": [
        "def recalculate_centroids(df):\n",
        "    new_centroids_dict = dict()\n",
        "    \n",
        "    for cluster_id in range(0, num_clusters):\n",
        "        values_in_cluster = df[df['cluster'] == cluster_id]\n",
        "        # Calculate new centroid using mean of values in the cluster\n",
        "        new_centroid = [np.average(values_in_cluster['ppg']), \n",
        "                        np.average(values_in_cluster['atr'])]\n",
        "        new_centroids_dict[cluster_id] = new_centroid\n",
        "    return new_centroids_dict\n",
        "\n",
        "centroids_dict = recalculate_centroids(point_guards)"
      ],
      "execution_count": 0,
      "outputs": []
    },
    {
      "metadata": {
        "id": "jU9-inKQwzev",
        "colab_type": "code",
        "outputId": "3f60f64d-6c9f-477f-9ab1-407f36682aa1",
        "colab": {
          "base_uri": "https://localhost:8080/",
          "height": 485
        }
      },
      "cell_type": "code",
      "source": [
        "point_guards['cluster'] = point_guards.apply(lambda row: assign_to_cluster(row), axis=1)\n",
        "visualize_clusters(point_guards, num_clusters)"
      ],
      "execution_count": 0,
      "outputs": [
        {
          "output_type": "stream",
          "text": [
            "/usr/local/lib/python3.6/dist-packages/ipykernel_launcher.py:1: SettingWithCopyWarning: \n",
            "A value is trying to be set on a copy of a slice from a DataFrame.\n",
            "Try using .loc[row_indexer,col_indexer] = value instead\n",
            "\n",
            "See the caveats in the documentation: http://pandas.pydata.org/pandas-docs/stable/indexing.html#indexing-view-versus-copy\n",
            "  \"\"\"Entry point for launching an IPython kernel.\n"
          ],
          "name": "stderr"
        },
        {
          "output_type": "display_data",
          "data": {
            "image/png": "[encoded data removed]",
            "text/plain": [
              "<matplotlib.figure.Figure at 0x7f54a56399b0>"
            ]
          },
          "metadata": {
            "tags": []
          }
        }
      ]
    },
    {
      "metadata": {
        "id": "112Gdlicw1Gl",
        "colab_type": "code",
        "outputId": "5fb5be90-49c6-4795-a733-86b32f6e8ac6",
        "colab": {
          "base_uri": "https://localhost:8080/",
          "height": 485
        }
      },
      "cell_type": "code",
      "source": [
        "centroids_dict = recalculate_centroids(point_guards)\n",
        "point_guards['cluster'] = point_guards.apply(lambda row: assign_to_cluster(row), axis=1)\n",
        "visualize_clusters(point_guards, num_clusters)\n"
      ],
      "execution_count": 0,
      "outputs": [
        {
          "output_type": "stream",
          "text": [
            "/usr/local/lib/python3.6/dist-packages/ipykernel_launcher.py:2: SettingWithCopyWarning: \n",
            "A value is trying to be set on a copy of a slice from a DataFrame.\n",
            "Try using .loc[row_indexer,col_indexer] = value instead\n",
            "\n",
            "See the caveats in the documentation: http://pandas.pydata.org/pandas-docs/stable/indexing.html#indexing-view-versus-copy\n",
            "  \n"
          ],
          "name": "stderr"
        },
        {
          "output_type": "display_data",
          "data": {
            "image/png": "[encoded data removed]",
            "text/plain": [
              "<matplotlib.figure.Figure at 0x7f549d646048>"
            ]
          },
          "metadata": {
            "tags": []
          }
        }
      ]
    },
    {
      "metadata": {
        "id": "sslgPGgYw4bS",
        "colab_type": "code",
        "outputId": "ae5821d8-97a1-4162-a8e5-1244acff7af0",
        "colab": {
          "base_uri": "https://localhost:8080/",
          "height": 485
        }
      },
      "cell_type": "code",
      "source": [
        "from sklearn.cluster import KMeans\n",
        "\n",
        "kmeans = KMeans(n_clusters=num_clusters)\n",
        "kmeans.fit(point_guards[['ppg', 'atr']])\n",
        "point_guards['cluster'] = kmeans.labels_\n",
        "\n",
        "visualize_clusters(point_guards, num_clusters)\n"
      ],
      "execution_count": 0,
      "outputs": [
        {
          "output_type": "stream",
          "text": [
            "/usr/local/lib/python3.6/dist-packages/ipykernel_launcher.py:5: SettingWithCopyWarning: \n",
            "A value is trying to be set on a copy of a slice from a DataFrame.\n",
            "Try using .loc[row_indexer,col_indexer] = value instead\n",
            "\n",
            "See the caveats in the documentation: http://pandas.pydata.org/pandas-docs/stable/indexing.html#indexing-view-versus-copy\n",
            "  \"\"\"\n"
          ],
          "name": "stderr"
        },
        {
          "output_type": "display_data",
          "data": {
            "image/png": "[encoded data removed]",
            "text/plain": [
              "<matplotlib.figure.Figure at 0x7f549d6ff400>"
            ]
          },
          "metadata": {
            "tags": []
          }
        }
      ]
    },
    {
      "metadata": {
        "id": "geQfMMVew6G4",
        "colab_type": "code",
        "colab": {}
      },
      "cell_type": "code",
      "source": [
        ""
      ],
      "execution_count": 0,
      "outputs": []
    }
  ]
}